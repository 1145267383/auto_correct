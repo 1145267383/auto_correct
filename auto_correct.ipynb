{
 "cells": [
  {
   "cell_type": "code",
   "execution_count": 12,
   "id": "5ebc2be1",
   "metadata": {
    "scrolled": true
   },
   "outputs": [],
   "source": [
    "def correct(word_us) :\n",
    "    \"\"\"\n",
    "    choose the words from the file similar to the user's word.\n",
    "    \n",
    "    \"\"\"\n",
    "    # open the word file.\n",
    "    file = open(\"webster_dictionary.txt\") \n",
    "    words = (list(file))\n",
    "    \n",
    "    # convert user word(word_u) to list(wu)\n",
    "    wu = list(word_us)\n",
    "    auto= []\n",
    "    \n",
    "    # convert  file words to word then to list(w).\n",
    "    for word in words:\n",
    "        word = word[:-2]\n",
    "        w = list(word)\n",
    "        \n",
    "        y = []\n",
    "        n = 0      \n",
    "        #choose the words from the file similar to the user's word \n",
    "        for i in range(len(wu)):\n",
    "            n=i-1\n",
    "            if len(wu)==len(w) or len(wu)+1 == len(w) or len(wu)-1 == len(w):\n",
    "                t = wu[n]==w[n]\n",
    "                y.append(t)\n",
    "                \n",
    "        # append words selected in list (auto) .\n",
    "        if sum(y) == len(wu) :\n",
    "            auto.append(word)\n",
    "             \n",
    "    \n",
    "    c = set(auto)\n",
    "    cot = {}\n",
    "    e=0\n",
    "    # convert list (auto) to dictionary(cot).\n",
    "    for l in c:\n",
    "        e+=1\n",
    "        cot[str(e)]=l\n",
    "    aut = 0\n",
    "    while True:\n",
    "        if \"1\" in cot.keys():\n",
    "            ch = input(f\"{cot}\")\n",
    "            if ch in cot.keys():\n",
    "                aut=cot.get(ch)\n",
    "                break\n",
    "            else:\n",
    "                print(\"this key non, return\")\n",
    "                continue\n",
    "        elif  \"1\" not in cot.keys():\n",
    "            aut = word_us\n",
    "            break\n",
    "            \n",
    "    return(aut)\n",
    "\n",
    "def auto_correct():\n",
    "    \"\"\"\n",
    "    View the correct to user. \n",
    "    \"\"\"\n",
    "    words_user = input(\"\")\n",
    "    word_user = words_user.split(\" \")\n",
    "    aut_word=[]\n",
    "    for word_us in word_user:\n",
    "        if word_us.islower():\n",
    "            c = correct(word_us)\n",
    "            aut_word.append(c)\n",
    "        else:\n",
    "            aut_word.append(word_us)\n",
    "    return(' '.join(aut_word))\n",
    "        \n",
    "    "
   ]
  },
  {
   "cell_type": "code",
   "execution_count": 14,
   "id": "051d253c",
   "metadata": {},
   "outputs": [
    {
     "name": "stdout",
     "output_type": "stream",
     "text": [
      "Mohamed ls agr 21\n",
      "{'1': 'las', '2': 'lus', '3': 'lys', '4': 'lis', '5': 'los', '6': 'les'}10\n",
      "this key non, return\n",
      "{'1': 'las', '2': 'lus', '3': 'lys', '4': 'lis', '5': 'los', '6': 'les'}2\n",
      "{'1': 'aggr', '2': 'agor', '3': 'agr'}0\n",
      "this key non, return\n",
      "{'1': 'aggr', '2': 'agor', '3': 'agr'}k\n",
      "this key non, return\n",
      "{'1': 'aggr', '2': 'agor', '3': 'agr'}3\n"
     ]
    },
    {
     "data": {
      "text/plain": [
       "'Mohamed lus agr 21'"
      ]
     },
     "execution_count": 14,
     "metadata": {},
     "output_type": "execute_result"
    }
   ],
   "source": [
    "auto_correct()"
   ]
  },
  {
   "cell_type": "code",
   "execution_count": null,
   "id": "6eb33f3a",
   "metadata": {},
   "outputs": [],
   "source": []
  }
 ],
 "metadata": {
  "kernelspec": {
   "display_name": "Python 3",
   "language": "python",
   "name": "python3"
  },
  "language_info": {
   "codemirror_mode": {
    "name": "ipython",
    "version": 3
   },
   "file_extension": ".py",
   "mimetype": "text/x-python",
   "name": "python",
   "nbconvert_exporter": "python",
   "pygments_lexer": "ipython3",
   "version": "3.8.8"
  }
 },
 "nbformat": 4,
 "nbformat_minor": 5
}
